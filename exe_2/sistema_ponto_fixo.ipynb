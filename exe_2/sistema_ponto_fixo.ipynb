{
 "cells": [
  {
   "cell_type": "code",
   "execution_count": 19,
   "id": "349574e3",
   "metadata": {},
   "outputs": [],
   "source": [
    "import numpy as np"
   ]
  },
  {
   "cell_type": "markdown",
   "id": "6a9cf59f",
   "metadata": {},
   "source": [
    "O sistema a ser resolvido numericamente é dados a seguir:\n",
    "\\begin{cases}\n",
    "    16\\,x^{4} + 16\\,y^{4} + z^{4} = 16 \\\\\n",
    "    x^{2} + y^{2} + z^{2} = 3 \\\\\n",
    "    x^{3} - y = 0.\n",
    "\\end{cases}\n",
    "A função de iteração $g : \\mathbb{R}^{3} \\to \\mathbb{R}^{3}$, dada por $g(x, y, z) = \\left[\\sqrt[4]{1 - y^{4} - \\dfrac{z^{4}}{16}}, x^{3}, \\sqrt{3 - x^{2} - y^{2}}\\right]^{T}$ e é definida no código a seguir:"
   ]
  },
  {
   "cell_type": "code",
   "execution_count": 20,
   "id": "e170db27",
   "metadata": {},
   "outputs": [],
   "source": [
    "# Função de iteração\n",
    "def g(x):\n",
    "    x2new = x[0]**3\n",
    "    x3new = (3 - x[0]**2 - x2new**2)**0.5\n",
    "    x1new = (1 - x2new**4 - x3new**4/16)**0.25\n",
    "    return np.array([x1new, x2new, x3new])"
   ]
  },
  {
   "cell_type": "markdown",
   "id": "a22d2841",
   "metadata": {},
   "source": [
    "A matriz jacobiana de $ g $ é dada por:\n",
    "$$ J(g)(x, y, z) = \\begin{pmatrix}\n",
    "    0 && \\frac{-y^{3}}{\\sqrt[4]{(1 - y^{4} - \\frac{z^{4}}{16})^{3}}} && \\frac{-z^{3}}{\\sqrt[4]{(1 - y^{4} - \\frac{z^{4}}{16})^{3}}} \\\\\n",
    "    3\\,x^{2} && 0 && 0 \\\\\n",
    "    \\frac{-x}{\\sqrt{3 - x^{2} - y^{2}}} && \\frac{-y}{\\sqrt{3 - x^{2} - y^{2}}} && 0\n",
    "\\end{pmatrix}.$$\n",
    "Desta forma, a fim de verificar a convergência do método, o raio espectral pode ser computado com o código implementado a seguir:"
   ]
  },
  {
   "cell_type": "code",
   "execution_count": 21,
   "id": "d46e90ea",
   "metadata": {},
   "outputs": [],
   "source": [
    "# Função para mostrar que a solução converge por meio da matriz Jacobiana\n",
    "def raio_espectral(x):\n",
    "    # Matriz Jacobiana da função de iteração\n",
    "    Jg = np.array([[0.0, -x[1]**3/(1 - x[1]**4 - x[2]**4/16)**0.75, -x[2]**3/(16*(1 - x[1]**4 - x[2]**4/16)**0.75)],\n",
    "                   [3*x[0]**2, 0.0, 0.0],\n",
    "                   [-x[0]/(3 - x[0]**2 - x[1]**2)**0.5, -x[1]/(3 - x[0]**2 - x[1]**2)**0.5, 0.0]])\n",
    "\n",
    "    autovalores = np.linalg.eigvals(Jg)\n",
    "    mod_auto = np.abs(autovalores)\n",
    "    raio = np.max(mod_auto)\n",
    "\n",
    "    return Jg, raio"
   ]
  },
  {
   "cell_type": "code",
   "execution_count": 22,
   "id": "de642a0a",
   "metadata": {},
   "outputs": [],
   "source": [
    "def ponto_fixo(g, x0, tol=1e-6, k_max=100):\n",
    "    for i in range(1, k_max+1):\n",
    "        x = g(x0)  # Função de iteração avaliada no ponto x0\n",
    "        # Cálculo do erro na norma euclidiana\n",
    "        erro = np.linalg.norm(x-x0)/np.linalg.norm(x)\n",
    "        if erro < tol:\n",
    "            return (x, i, erro)\n",
    "        x0 = x\n",
    "    return (x, i, erro)"
   ]
  },
  {
   "cell_type": "code",
   "execution_count": 23,
   "id": "22bc6c3f",
   "metadata": {},
   "outputs": [],
   "source": [
    "# Função principal\n",
    "def main():\n",
    "    # Ponto inicial\n",
    "    x0 = np.array([0.9, 0.7, 1.0])\n",
    "    # Solução aproximada do sistem não-linear pelo método do ponto fixo\n",
    "    x, num_it, erro = ponto_fixo(g, x0)\n",
    "    # Solução esperada [0.87796576 0.67675697 1.33085541]\n",
    "    print(f\"\\nSolução aproximada para o problema:\\nx = [{x[0]}, {x[1]}, {x[2]}].\")\n",
    "    print(f\"Número de iterações: {num_it}.\")\n",
    "    print(f\"Erro associado à solução obtida: {erro}.\")\n",
    "\n",
    "    # Avaliando o raio espectral\n",
    "    J, r = raio_espectral(x)\n",
    "    print(f\"Matriz Jacobiana avaliada na solução:\\n{J}.\")\n",
    "    if r < 1:\n",
    "        print(f\"O método converge com raio espectral r = {r} < 1.\")\n",
    "    else:\n",
    "        print(f\"O método não converge, pois o raio espectral r = {r} é maior que 1.\")"
   ]
  },
  {
   "cell_type": "code",
   "execution_count": 24,
   "id": "f87ab111",
   "metadata": {},
   "outputs": [
    {
     "name": "stdout",
     "output_type": "stream",
     "text": [
      "\n",
      "Solução aproximada para o problema:\n",
      "x = [0.8779656209097886, 0.6767574591741983, 1.3308550237295367].\n",
      "Número de iterações: 29.\n",
      "Erro associado à solução obtida: 9.287137559860313e-07.\n",
      "Matriz Jacobiana avaliada na solução:\n",
      "[[ 0.         -0.45800121 -0.21769063]\n",
      " [ 2.31247089  0.          0.        ]\n",
      " [-0.65970031 -0.5085132   0.        ]].\n",
      "O método converge com raio espectral r = 0.9916051336451428 < 1.\n"
     ]
    }
   ],
   "source": [
    "# Chamada da função principal\n",
    "if __name__ == '__main__':\n",
    "    main()"
   ]
  },
  {
   "cell_type": "code",
   "execution_count": null,
   "id": "2b5bcf6f",
   "metadata": {},
   "outputs": [],
   "source": []
  }
 ],
 "metadata": {
  "kernelspec": {
   "display_name": "Python 3",
   "language": "python",
   "name": "python3"
  },
  "language_info": {
   "codemirror_mode": {
    "name": "ipython",
    "version": 3
   },
   "file_extension": ".py",
   "mimetype": "text/x-python",
   "name": "python",
   "nbconvert_exporter": "python",
   "pygments_lexer": "ipython3",
   "version": "3.12.3"
  }
 },
 "nbformat": 4,
 "nbformat_minor": 5
}
