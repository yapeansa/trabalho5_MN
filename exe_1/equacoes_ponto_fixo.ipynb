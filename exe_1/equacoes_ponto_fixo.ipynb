{
 "cells": [
  {
   "cell_type": "code",
   "execution_count": 232,
   "id": "69961e6b",
   "metadata": {},
   "outputs": [],
   "source": [
    "import numpy as np"
   ]
  },
  {
   "cell_type": "markdown",
   "id": "cd782373",
   "metadata": {},
   "source": [
    "O código abaixo define a função $ f_1(x) = x^{3} - 2\\,x - 5 $ e sua derivada $ f_{1}'(x) = 3\\,x^{2} - 2 $."
   ]
  },
  {
   "cell_type": "code",
   "execution_count": 233,
   "id": "bba0cb0c",
   "metadata": {},
   "outputs": [],
   "source": [
    "def f1(x):\n",
    "    return (x**3 - 2 * x - 5)\n",
    "\n",
    "\n",
    "def df1dx(x):\n",
    "    return (3*(x**2) - 2)"
   ]
  },
  {
   "cell_type": "markdown",
   "id": "eec82864",
   "metadata": {},
   "source": [
    "O código abaixo define a função $ f_2(x) = e^{-x} - x $ e sua derivada $ f_{2}'(x) = -e^{-x} - 1 $."
   ]
  },
  {
   "cell_type": "code",
   "execution_count": 234,
   "id": "b5b3dd77",
   "metadata": {},
   "outputs": [],
   "source": [
    "def f2(x):\n",
    "    return (np.exp(-x) - x)\n",
    "\n",
    "\n",
    "def df2dx(x):\n",
    "    return (-np.exp(-x) - 1)"
   ]
  },
  {
   "cell_type": "markdown",
   "id": "2a115c59",
   "metadata": {},
   "source": [
    "O código abaixo define a função $ f_3(x) = x\\,sin(x) - 1 $ e sua derivada $ f_{3}'(x) = sin(x) + x\\,cos(x) $."
   ]
  },
  {
   "cell_type": "code",
   "execution_count": 235,
   "id": "912880a9",
   "metadata": {},
   "outputs": [],
   "source": [
    "def f3(x):\n",
    "    return (x * np.sin(x) - 1)\n",
    "\n",
    "\n",
    "def df3dx(x):\n",
    "    return (np.sin(x) + x * np.cos(x))"
   ]
  },
  {
   "cell_type": "markdown",
   "id": "ba2e630e",
   "metadata": {},
   "source": [
    "O código abaixo define a função $ f_4(x) = x^{3} - 3\\,x^{2} + 3\\,x - 1 $ e sua derivada $ f'_{4}(x) = 3\\,x^{2} - 6\\,x + 3 $."
   ]
  },
  {
   "cell_type": "code",
   "execution_count": 236,
   "id": "f9c10c70",
   "metadata": {},
   "outputs": [],
   "source": [
    "def f4(x):\n",
    "    return (x**3 - 3*(x**2) + 3*x - 1)\n",
    "\n",
    "\n",
    "def df4dx(x):\n",
    "    return (3*(x**2) - 6*x + 3)"
   ]
  },
  {
   "cell_type": "markdown",
   "id": "cb9cc68d",
   "metadata": {},
   "source": [
    "Para o método da bisseção, na função principal, é possível também utilizar a fórmula para o cálculo do número máximo de iterações para que se tenha a convergência do método para uma dada tolerância:\n",
    "$$ k_{\\text{max}} = \\frac{log\\left(\\frac{b - a}{\\varepsilon}\\right)}{log(2)} - 1, $$\n",
    "onde $ \\varepsilon $ é uma tolerância pré-fixada $ \\varepsilon = 10^{-6} $."
   ]
  },
  {
   "cell_type": "code",
   "execution_count": 237,
   "id": "7f4b9b02",
   "metadata": {},
   "outputs": [],
   "source": [
    "def metodo_bissecao(f, a, b, tol=1e-6, k_max=100):\n",
    "    k = 1\n",
    "    while k <= k_max and np.abs(b - a) >= tol:\n",
    "        # Calcula o ponto médio do intervalo [a, b]\n",
    "        x = (a + b)/2\n",
    "        # Avalia se a função muda de sinal nos extremos a e x\n",
    "        if f(a) * f(x) < 0:\n",
    "            b = x\n",
    "        else:\n",
    "            a = x\n",
    "        k += 1\n",
    "    erro = b - a\n",
    "    return (x, k-1, erro)"
   ]
  },
  {
   "cell_type": "code",
   "execution_count": 238,
   "id": "901589cc",
   "metadata": {},
   "outputs": [],
   "source": [
    "def metodo_newton(f, dfdx, x_0, tol=1e-6, k_max=100):\n",
    "    for i in range(1, k_max+1):\n",
    "        x = x_0 - f(x_0)/dfdx(x_0)\n",
    "        erro = np.abs(x - x_0)\n",
    "        if erro < tol and np.abs(f(x)) < tol:\n",
    "            return x, i, erro\n",
    "        x_0 = x\n",
    "    return (x, i, erro)"
   ]
  },
  {
   "cell_type": "code",
   "execution_count": 239,
   "id": "9cdf7c93",
   "metadata": {},
   "outputs": [],
   "source": [
    "def metodo_secante(f, x_0, x_1, tol=1e-6, k_max=100):\n",
    "    for i in range(1, k_max+1):\n",
    "        x = (x_0 * f(x_1) - x_1 * f(x_0))/(f(x_1) - f(x_0))\n",
    "        erro = np.abs(x - x_1)\n",
    "        if erro < tol and np.abs(f(x)) < tol:\n",
    "            return x, i, erro\n",
    "        x_0 = x_1\n",
    "        x_1 = x\n",
    "    return (x, i, erro)"
   ]
  },
  {
   "cell_type": "markdown",
   "id": "da96c7eb",
   "metadata": {},
   "source": [
    "No código abaixo, definimos uma função para a aplicação dos métodos para uma função arbitrária."
   ]
  },
  {
   "cell_type": "code",
   "execution_count": 240,
   "id": "0fe1192c",
   "metadata": {},
   "outputs": [],
   "source": [
    "def aplicacao_metodos(f, dfdx, a, b, x_0, x_1):\n",
    "    iter_max = (np.log((b - a)/1e-6) / np.log(2)) - 1\n",
    "    print(f\"Número máximo de iterações obtido via fórmula para o Método da Bisseção: {iter_max:.2f}.\\n\")\n",
    "    \n",
    "    # Método da bisseção\n",
    "    x1, iter1, erro1 = metodo_bissecao(f, a, b)\n",
    "    # Método de Newton\n",
    "    x2, iter2, erro2 = metodo_newton(f, dfdx, x_0)\n",
    "    # Método da secante\n",
    "    x3, iter3, erro3 = metodo_secante(f, x_0, x_1)\n",
    "\n",
    "    print(f\"{'Método':<9.9}{'Raiz Aproximada':<19.19}{'Iterações':<9.9}{'Erro':>5}\")\n",
    "    print(f\"{'Bisseção':<9.9}{x1:<16.16} {iter1:>3}        {erro1:<6.6}\")\n",
    "    print(f\"{'Newton':<9.9}{x2:<16.16} {iter2:>3}         {erro2:<6.6}\")\n",
    "    print(f\"{'Secante':<9.9}{x3:<16.16} {iter3:>3}        {erro3:<6.6}\")\n",
    "    "
   ]
  },
  {
   "cell_type": "code",
   "execution_count": 241,
   "id": "80853793",
   "metadata": {},
   "outputs": [],
   "source": [
    "# Definindo a função principal.\n",
    "def main():\n",
    "    # Definindo os extremos do intervalo [a, b] onde desejamos procurar a raiz de uma dada função.\n",
    "    I = [(0, 3), (-1, 5), (0, np.pi/2), (-1, 2)]\n",
    "\n",
    "    # Primeira iteração método da bisseção: x = 1.5\n",
    "    # Segunda iteração do método da bisseção: x = 2.25\n",
    "    x0 = 1.5\n",
    "    x1 = 2.25\n",
    "    print(\"Aplicação dos métodos para a função f1:\\n\")\n",
    "    aplicacao_metodos(f1, df1dx, I[0][0], I[0][1], x0, x1)\n",
    "\n",
    "    # Primeira iteração do método da bisseção: x = 0.55\n",
    "    # Segunda iteração para o método da bisseção: x = 0.575\n",
    "    x0 = 2.0\n",
    "    x1 = 0.5\n",
    "    print(\"\\nAplicação dos métodos para a função f2:\\n\")\n",
    "    aplicacao_metodos(f2, df2dx, I[1][0], I[1][1], x0, x1)\n",
    "\n",
    "    # Primeira iteração do método da bisseção: x = 0.7853981633974483\n",
    "    # Segunda iteração do método da bisseção: x = 1.1780972450961724\n",
    "    x0 = 0.7853981633974483\n",
    "    x1 = 1.1780972450961724\n",
    "    print(\"\\nAplicação dos métodos para a função f3:\\n\")\n",
    "    aplicacao_metodos(f3, df3dx, I[2][0], I[2][1], x0, x1)\n",
    "\n",
    "    # Primeira iteração do método da bisseção: x = 0.5\n",
    "    # Segunda iteração do método da bisseção: x = 1.25\n",
    "    x0 = 0.5\n",
    "    x1 = 1.25\n",
    "    print(\"\\nAplicação dos métodos para a função f4:\\n\")\n",
    "    aplicacao_metodos(f4, df4dx, I[3][0], I[3][1], x0, x1)"
   ]
  },
  {
   "cell_type": "code",
   "execution_count": 242,
   "id": "1182d5c1",
   "metadata": {},
   "outputs": [
    {
     "name": "stdout",
     "output_type": "stream",
     "text": [
      "Aplicação dos métodos para a função f1:\n",
      "\n",
      "Número máximo de iterações obtido via fórmula para o Método da Bisseção: 20.52.\n",
      "\n",
      "Método   Raiz Aproximada    Iterações Erro\n",
      "Bisseção 2.09455132484436  22        7.15256e-07\n",
      "Newton   2.094551481542327   6         3.16014e-12\n",
      "Secante  2.094551481483225   5        5.56951e-07\n",
      "\n",
      "Aplicação dos métodos para a função f2:\n",
      "\n",
      "Número máximo de iterações obtido via fórmula para o Método da Bisseção: 21.52.\n",
      "\n",
      "Método   Raiz Aproximada    Iterações Erro\n",
      "Bisseção 0.5671432018280029  23        7.15256e-07\n",
      "Newton   0.5671432904097838   5         3.01456e-11\n",
      "Secante  0.5671432904230098   4        4.28666e-07\n",
      "\n",
      "Aplicação dos métodos para a função f3:\n",
      "\n",
      "Número máximo de iterações obtido via fórmula para o Método da Bisseção: 19.58.\n",
      "\n",
      "Método   Raiz Aproximada    Iterações Erro\n",
      "Bisseção 1.114157660155812  21        7.49014e-07\n",
      "Newton   1.11415714087193   4         4.71787e-11\n",
      "Secante  1.11415714087193   4        2.58117e-10\n",
      "\n",
      "Aplicação dos métodos para a função f4:\n",
      "\n",
      "Número máximo de iterações obtido via fórmula para o Método da Bisseção: 20.52.\n",
      "\n",
      "Método   Raiz Aproximada    Iterações Erro\n",
      "Bisseção 1.000014543533325  22        7.15256e-07\n",
      "Newton   0.9999992292331121  32         0.0   \n",
      "Secante  1.000000205887511  38        0.0   \n"
     ]
    }
   ],
   "source": [
    "# Chamada da função principal\n",
    "if __name__ == '__main__':\n",
    "    main()"
   ]
  },
  {
   "cell_type": "code",
   "execution_count": null,
   "id": "7d3e7846",
   "metadata": {},
   "outputs": [],
   "source": []
  }
 ],
 "metadata": {
  "kernelspec": {
   "display_name": "Python 3",
   "language": "python",
   "name": "python3"
  },
  "language_info": {
   "codemirror_mode": {
    "name": "ipython",
    "version": 3
   },
   "file_extension": ".py",
   "mimetype": "text/x-python",
   "name": "python",
   "nbconvert_exporter": "python",
   "pygments_lexer": "ipython3",
   "version": "3.12.3"
  }
 },
 "nbformat": 4,
 "nbformat_minor": 5
}
